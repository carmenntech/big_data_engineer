{
  "metadata": {
    "kernelspec": {
      "name": "python",
      "display_name": "Python (Pyodide)",
      "language": "python"
    },
    "language_info": {
      "codemirror_mode": {
        "name": "python",
        "version": 3
      },
      "file_extension": ".py",
      "mimetype": "text/x-python",
      "name": "python",
      "nbconvert_exporter": "python",
      "pygments_lexer": "ipython3",
      "version": "3.8"
    }
  },
  "nbformat_minor": 4,
  "nbformat": 4,
  "cells": [
    {
      "cell_type": "code",
      "source": "%pip install pandas\n",
      "metadata": {
        "trusted": true
      },
      "outputs": [],
      "execution_count": 1
    },
    {
      "cell_type": "code",
      "source": "%pip install pandas openpyxl",
      "metadata": {
        "trusted": true
      },
      "outputs": [],
      "execution_count": 2
    },
    {
      "cell_type": "code",
      "source": "import pandas as pd\n\ndf = pd.read_excel('AccidentesBicicletas_2024.xlsx')\n# Contar todas las filas del DataFrame\nnumero_filas = len(df)\nprint(\"Número de filas:\", numero_filas)\n\n\nfilas_alcohol_positivo = (df['positiva_alcohol'] == 'S').sum()\nporcentaje_positivos = (filas_alcohol_positivo / numero_filas) * 100\n\n\nprint(\"Número de filas con alcohol_positivo igual a 1:\", filas_alcohol_positivo)\nprint(\"Porcentaje de filas con alcohol_positivo igual a 1: {:.2f}%\".format(porcentaje_positivos))\n\n",
      "metadata": {
        "trusted": true
      },
      "outputs": [
        {
          "name": "stdout",
          "text": "Número de filas: 279\nNúmero de filas con alcohol_positivo igual a 1: 9\nPorcentaje de filas con alcohol_positivo igual a 1: 3.23%\n",
          "output_type": "stream"
        }
      ],
      "execution_count": 3
    },
    {
      "cell_type": "code",
      "source": "",
      "metadata": {
        "trusted": true
      },
      "outputs": [],
      "execution_count": null
    }
  ]
}