{
  "metadata": {
    "kernelspec": {
      "name": "python",
      "display_name": "Python (Pyodide)",
      "language": "python"
    },
    "language_info": {
      "codemirror_mode": {
        "name": "python",
        "version": 3
      },
      "file_extension": ".py",
      "mimetype": "text/x-python",
      "name": "python",
      "nbconvert_exporter": "python",
      "pygments_lexer": "ipython3",
      "version": "3.8"
    }
  },
  "nbformat_minor": 4,
  "nbformat": 4,
  "cells": [
    {
      "cell_type": "code",
      "source": "%pip install pandas",
      "metadata": {
        "trusted": true
      },
      "outputs": [],
      "execution_count": 1
    },
    {
      "cell_type": "code",
      "source": "%pip install pandas openpyxl",
      "metadata": {
        "trusted": true
      },
      "outputs": [],
      "execution_count": 2
    },
    {
      "cell_type": "code",
      "source": "df = pd.read_excel('AccidentesBicicletas_2023.xlsx')",
      "metadata": {
        "trusted": true
      },
      "outputs": [
        {
          "ename": "<class 'NameError'>",
          "evalue": "name 'pd' is not defined",
          "traceback": [
            "\u001b[0;31m---------------------------------------------------------------------------\u001b[0m",
            "\u001b[0;31mNameError\u001b[0m                                 Traceback (most recent call last)",
            "Cell \u001b[0;32mIn[3], line 1\u001b[0m\n\u001b[0;32m----> 1\u001b[0m df \u001b[38;5;241m=\u001b[39m \u001b[43mpd\u001b[49m\u001b[38;5;241m.\u001b[39mread_excel(\u001b[38;5;124m'\u001b[39m\u001b[38;5;124mAccidentesBicicletas_2023.xlsx\u001b[39m\u001b[38;5;124m'\u001b[39m)\n",
            "\u001b[0;31mNameError\u001b[0m: name 'pd' is not defined"
          ],
          "output_type": "error"
        }
      ],
      "execution_count": 3
    },
    {
      "cell_type": "code",
      "source": "import pandas as pd\n\ndf = pd.read_excel('AccidentesBicicletas_2023.xlsx')",
      "metadata": {
        "trusted": true
      },
      "outputs": [],
      "execution_count": 4
    },
    {
      "cell_type": "code",
      "source": "print(df)",
      "metadata": {
        "trusted": true
      },
      "outputs": [
        {
          "name": "stdout",
          "text": "    num_expediente      fecha      hora  \\\n0      2023S000057 2023-01-02  07:50:00   \n1      2023S000123 2023-01-03  13:20:00   \n2      2023S000136 2023-01-03  15:45:00   \n3      2023S000163 2023-01-03  22:26:00   \n4      2023S000181 2023-01-04  11:05:00   \n..             ...        ...       ...   \n900    2023S040174 2023-12-30  18:30:00   \n901    2023S040247 2023-12-31  17:35:00   \n902    2023S040252 2023-12-31  14:40:00   \n903    2023S040252 2023-12-31  14:40:00   \n904    2023S040255 2023-12-31  19:55:00   \n\n                                          localizacion numero  cod_distrito  \\\n0                            CALL. GOYA / CALL. LOMBIA     86             4   \n1                                 AVDA. ENTREVIAS, 100    100            13   \n2                        PASEO. CASTELLANA / MIGUEL AN     51             7   \n3    PASEO. SANTA MARIA DE LA CABEZA / PALOS DE LA ...     39             2   \n4                                      CALL. IBIZA, 39     39             3   \n..                                                 ...    ...           ...   \n900                 CALL. DOCTOR RAMON CASTROVIEJO, 29     29             8   \n901                     CALL. BURJASOT / CALL. GODELLA     12            17   \n902         CALL. PRINCIPE DE VERGARA / CALL. COLOMBIA    264             5   \n903         CALL. PRINCIPE DE VERGARA / CALL. COLOMBIA    264             5   \n904                       CALL. GENERAL LOPEZ POZAS, 4      4             5   \n\n                distrito                tipo_accidente estado_meteorológico  \\\n0              SALAMANCA       Colisión fronto-lateral              Nublado   \n1     PUENTE DE VALLECAS       Colisión fronto-lateral            Despejado   \n2               CHAMBERÍ       Colisión fronto-lateral            Despejado   \n3             ARGANZUELA                         Caída            Despejado   \n4                 RETIRO  Choque contra obstáculo fijo            Despejado   \n..                   ...                           ...                  ...   \n900  FUENCARRAL-EL PARDO              Colisión frontal                  NaN   \n901           VILLAVERDE                          Otro              Nublado   \n902            CHAMARTÍN       Colisión fronto-lateral         Se desconoce   \n903            CHAMARTÍN       Colisión fronto-lateral         Se desconoce   \n904            CHAMARTÍN              Colisión lateral            Despejado   \n\n                         tipo_vehiculo tipo_persona       rango_edad    sexo  \\\n0                            Bicicleta    Conductor  De 55 a 59 años  Hombre   \n1    Bicicleta EPAC (pedaleo asistido)    Conductor  De 55 a 59 años  Hombre   \n2                            Bicicleta    Conductor  De 45 a 49 años  Hombre   \n3                            Bicicleta    Conductor  De 21 a 24 años   Mujer   \n4                            Bicicleta    Conductor  De 25 a 29 años  Hombre   \n..                                 ...          ...              ...     ...   \n900                          Bicicleta    Conductor  De 15 a 17 años  Hombre   \n901                          Bicicleta    Conductor  De 18 a 20 años  Hombre   \n902                          Bicicleta    Conductor  De 25 a 29 años  Hombre   \n903                          Bicicleta       Peatón  De 25 a 29 años  Hombre   \n904                          Bicicleta    Conductor  De 50 a 54 años  Hombre   \n\n     cod_lesividad                                          lesividad  \\\n0              NaN                                                NaN   \n1              1.0        Atención en urgencias sin posterior ingreso   \n2              3.0                        Ingreso superior a 24 horas   \n3              NaN                                                NaN   \n4              2.0                Ingreso inferior o igual a 24 horas   \n..             ...                                                ...   \n900            NaN                                                NaN   \n901            1.0        Atención en urgencias sin posterior ingreso   \n902           14.0                           Sin asistencia sanitaria   \n903           14.0                           Sin asistencia sanitaria   \n904            7.0  Asistencia sanitaria sólo en el lugar del acci...   \n\n     coordenada_x_utm  coordenada_y_utm positiva_alcohol  positiva_droga  \n0          442943.680       4475109.106                N             NaN  \n1          443717.786       4469886.737                N             NaN  \n2          441406.026       4476550.072                N             NaN  \n3          440825.321       4472731.828                N             NaN  \n4          442860.171       4474395.995                N             NaN  \n..                ...               ...              ...             ...  \n900        439287.087       4481137.292                N             NaN  \n901        441494.046       4466290.289                N             NaN  \n902        442611.656       4478733.657                N             NaN  \n903        442611.656       4478733.657                N             NaN  \n904        441902.571       4479486.900                N             NaN  \n\n[905 rows x 19 columns]\n",
          "output_type": "stream"
        }
      ],
      "execution_count": 5
    },
    {
      "cell_type": "code",
      "source": "valores_unicos_alcohol = df['positiva_alcohol'].unique()\n\nvalores_unicos_positivo = df['positiva_droga'].unique()\nprint(valores_unicos_alcohol, valores_unicos_positivo)",
      "metadata": {
        "trusted": true
      },
      "outputs": [
        {
          "name": "stdout",
          "text": "['N' 'S' nan] [nan  1.]\n",
          "output_type": "stream"
        }
      ],
      "execution_count": 6
    },
    {
      "cell_type": "code",
      "source": "def converter_alcohol(positiva_alcohol):\n    if positiva_alcohol == 'S':\n        return 1\n    elif positiva_alcohol == 'N':\n        return 0\n    else:\n        return 2\n\ndf['alcohol_numerico'] = df['positiva_alcohol'].apply(converter_alcohol)",
      "metadata": {
        "trusted": true
      },
      "outputs": [],
      "execution_count": 7
    },
    {
      "cell_type": "code",
      "source": "# Contar todas las filas del DataFrame\nnumero_filas = len(df)\nprint(\"Número de filas:\", numero_filas)",
      "metadata": {
        "trusted": true
      },
      "outputs": [
        {
          "name": "stdout",
          "text": "Número de filas: 905\n",
          "output_type": "stream"
        }
      ],
      "execution_count": 8
    },
    {
      "cell_type": "code",
      "source": "filas_alcohol_positivo = (df['alcohol_numerico'] == 1).sum()\nporcentaje_positivos = (filas_alcohol_positivo / numero_filas) * 100\n\n\nprint(\"Número de filas con alcohol_positivo igual a 1:\", filas_alcohol_positivo)\nprint(\"Porcentaje de filas con alcohol_positivo igual a 1: {:.2f}%\".format(porcentaje_positivos))",
      "metadata": {
        "trusted": true
      },
      "outputs": [
        {
          "ename": "<class 'KeyError'>",
          "evalue": "'alcohol_positivo'",
          "traceback": [
            "\u001b[0;31m---------------------------------------------------------------------------\u001b[0m",
            "\u001b[0;31mKeyError\u001b[0m                                  Traceback (most recent call last)",
            "File \u001b[0;32m/lib/python3.11/site-packages/pandas/core/indexes/base.py:3802\u001b[0m, in \u001b[0;36mIndex.get_loc\u001b[0;34m(self, key, method, tolerance)\u001b[0m\n\u001b[1;32m   3801\u001b[0m \u001b[38;5;28;01mtry\u001b[39;00m:\n\u001b[0;32m-> 3802\u001b[0m     \u001b[38;5;28;01mreturn\u001b[39;00m \u001b[38;5;28;43mself\u001b[39;49m\u001b[38;5;241;43m.\u001b[39;49m\u001b[43m_engine\u001b[49m\u001b[38;5;241;43m.\u001b[39;49m\u001b[43mget_loc\u001b[49m\u001b[43m(\u001b[49m\u001b[43mcasted_key\u001b[49m\u001b[43m)\u001b[49m\n\u001b[1;32m   3803\u001b[0m \u001b[38;5;28;01mexcept\u001b[39;00m \u001b[38;5;167;01mKeyError\u001b[39;00m \u001b[38;5;28;01mas\u001b[39;00m err:\n",
            "File \u001b[0;32m/lib/python3.11/site-packages/pandas/_libs/index.pyx:138\u001b[0m, in \u001b[0;36mpandas._libs.index.IndexEngine.get_loc\u001b[0;34m()\u001b[0m\n",
            "File \u001b[0;32m/lib/python3.11/site-packages/pandas/_libs/index.pyx:165\u001b[0m, in \u001b[0;36mpandas._libs.index.IndexEngine.get_loc\u001b[0;34m()\u001b[0m\n",
            "File \u001b[0;32mpandas/_libs/hashtable_class_helper.pxi:5745\u001b[0m, in \u001b[0;36mpandas._libs.hashtable.PyObjectHashTable.get_item\u001b[0;34m()\u001b[0m\n",
            "File \u001b[0;32mpandas/_libs/hashtable_class_helper.pxi:5753\u001b[0m, in \u001b[0;36mpandas._libs.hashtable.PyObjectHashTable.get_item\u001b[0;34m()\u001b[0m\n",
            "\u001b[0;31mKeyError\u001b[0m: 'alcohol_positivo'",
            "\nThe above exception was the direct cause of the following exception:\n",
            "\u001b[0;31mKeyError\u001b[0m                                  Traceback (most recent call last)",
            "Cell \u001b[0;32mIn[9], line 1\u001b[0m\n\u001b[0;32m----> 1\u001b[0m filas_alcohol_positivo \u001b[38;5;241m=\u001b[39m (\u001b[43mdf\u001b[49m\u001b[43m[\u001b[49m\u001b[38;5;124;43m'\u001b[39;49m\u001b[38;5;124;43malcohol_positivo\u001b[39;49m\u001b[38;5;124;43m'\u001b[39;49m\u001b[43m]\u001b[49m \u001b[38;5;241m==\u001b[39m \u001b[38;5;241m1\u001b[39m)\u001b[38;5;241m.\u001b[39msum()\n\u001b[1;32m      2\u001b[0m porcentaje_positivos \u001b[38;5;241m=\u001b[39m (filas_alcohol_positivo \u001b[38;5;241m/\u001b[39m numero_filas) \u001b[38;5;241m*\u001b[39m \u001b[38;5;241m100\u001b[39m\n\u001b[1;32m      4\u001b[0m \u001b[38;5;28mprint\u001b[39m(\u001b[38;5;124m\"\u001b[39m\u001b[38;5;124mNúmero total de filas:\u001b[39m\u001b[38;5;124m\"\u001b[39m, numero_filas)\n",
            "File \u001b[0;32m/lib/python3.11/site-packages/pandas/core/frame.py:3807\u001b[0m, in \u001b[0;36mDataFrame.__getitem__\u001b[0;34m(self, key)\u001b[0m\n\u001b[1;32m   3805\u001b[0m \u001b[38;5;28;01mif\u001b[39;00m \u001b[38;5;28mself\u001b[39m\u001b[38;5;241m.\u001b[39mcolumns\u001b[38;5;241m.\u001b[39mnlevels \u001b[38;5;241m>\u001b[39m \u001b[38;5;241m1\u001b[39m:\n\u001b[1;32m   3806\u001b[0m     \u001b[38;5;28;01mreturn\u001b[39;00m \u001b[38;5;28mself\u001b[39m\u001b[38;5;241m.\u001b[39m_getitem_multilevel(key)\n\u001b[0;32m-> 3807\u001b[0m indexer \u001b[38;5;241m=\u001b[39m \u001b[38;5;28;43mself\u001b[39;49m\u001b[38;5;241;43m.\u001b[39;49m\u001b[43mcolumns\u001b[49m\u001b[38;5;241;43m.\u001b[39;49m\u001b[43mget_loc\u001b[49m\u001b[43m(\u001b[49m\u001b[43mkey\u001b[49m\u001b[43m)\u001b[49m\n\u001b[1;32m   3808\u001b[0m \u001b[38;5;28;01mif\u001b[39;00m is_integer(indexer):\n\u001b[1;32m   3809\u001b[0m     indexer \u001b[38;5;241m=\u001b[39m [indexer]\n",
            "File \u001b[0;32m/lib/python3.11/site-packages/pandas/core/indexes/base.py:3804\u001b[0m, in \u001b[0;36mIndex.get_loc\u001b[0;34m(self, key, method, tolerance)\u001b[0m\n\u001b[1;32m   3802\u001b[0m     \u001b[38;5;28;01mreturn\u001b[39;00m \u001b[38;5;28mself\u001b[39m\u001b[38;5;241m.\u001b[39m_engine\u001b[38;5;241m.\u001b[39mget_loc(casted_key)\n\u001b[1;32m   3803\u001b[0m \u001b[38;5;28;01mexcept\u001b[39;00m \u001b[38;5;167;01mKeyError\u001b[39;00m \u001b[38;5;28;01mas\u001b[39;00m err:\n\u001b[0;32m-> 3804\u001b[0m     \u001b[38;5;28;01mraise\u001b[39;00m \u001b[38;5;167;01mKeyError\u001b[39;00m(key) \u001b[38;5;28;01mfrom\u001b[39;00m \u001b[38;5;21;01merr\u001b[39;00m\n\u001b[1;32m   3805\u001b[0m \u001b[38;5;28;01mexcept\u001b[39;00m \u001b[38;5;167;01mTypeError\u001b[39;00m:\n\u001b[1;32m   3806\u001b[0m     \u001b[38;5;66;03m# If we have a listlike key, _check_indexing_error will raise\u001b[39;00m\n\u001b[1;32m   3807\u001b[0m     \u001b[38;5;66;03m#  InvalidIndexError. Otherwise we fall through and re-raise\u001b[39;00m\n\u001b[1;32m   3808\u001b[0m     \u001b[38;5;66;03m#  the TypeError.\u001b[39;00m\n\u001b[1;32m   3809\u001b[0m     \u001b[38;5;28mself\u001b[39m\u001b[38;5;241m.\u001b[39m_check_indexing_error(key)\n",
            "\u001b[0;31mKeyError\u001b[0m: 'alcohol_positivo'"
          ],
          "output_type": "error"
        }
      ],
      "execution_count": 9
    },
    {
      "cell_type": "code",
      "source": "filas_alcohol_positivo = (df['alcohol_numerico'] == 1).sum()\nporcentaje_positivos = (filas_alcohol_positivo / numero_filas) * 100\n\n\nprint(\"Número de filas con alcohol_positivo igual a 1:\", filas_alcohol_positivo)\nprint(\"Porcentaje de filas con alcohol_positivo igual a 1: {:.2f}%\".format(porcentaje_positivos))",
      "metadata": {
        "trusted": true
      },
      "outputs": [
        {
          "name": "stdout",
          "text": "Número de filas con alcohol_positivo igual a 1: 21\nPorcentaje de filas con alcohol_positivo igual a 1: 2.32%\n",
          "output_type": "stream"
        }
      ],
      "execution_count": 10
    },
    {
      "cell_type": "code",
      "source": "",
      "metadata": {
        "trusted": true
      },
      "outputs": [],
      "execution_count": null
    }
  ]
}